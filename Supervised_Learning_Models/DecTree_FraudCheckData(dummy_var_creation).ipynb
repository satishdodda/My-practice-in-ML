{
 "cells": [
  {
   "cell_type": "code",
   "execution_count": 34,
   "metadata": {},
   "outputs": [],
   "source": [
    "import pandas as pd"
   ]
  },
  {
   "cell_type": "code",
   "execution_count": 35,
   "metadata": {},
   "outputs": [],
   "source": [
    "ev = \"dev\",\"test\",\"prod\""
   ]
  },
  {
   "cell_type": "code",
   "execution_count": 36,
   "metadata": {},
   "outputs": [
    {
     "data": {
      "text/plain": [
       "('dev', 'test', 'prod')"
      ]
     },
     "execution_count": 36,
     "metadata": {},
     "output_type": "execute_result"
    }
   ],
   "source": [
    "ev"
   ]
  },
  {
   "cell_type": "code",
   "execution_count": 37,
   "metadata": {},
   "outputs": [],
   "source": [
    "env = [\"dev\",\"test\",\"prod\"]"
   ]
  },
  {
   "cell_type": "code",
   "execution_count": 38,
   "metadata": {},
   "outputs": [
    {
     "data": {
      "text/plain": [
       "['dev', 'test', 'prod']"
      ]
     },
     "execution_count": 38,
     "metadata": {},
     "output_type": "execute_result"
    }
   ],
   "source": [
    "env"
   ]
  },
  {
   "cell_type": "code",
   "execution_count": 39,
   "metadata": {},
   "outputs": [
    {
     "data": {
      "text/plain": [
       "tuple"
      ]
     },
     "execution_count": 39,
     "metadata": {},
     "output_type": "execute_result"
    }
   ],
   "source": [
    "type(ev)"
   ]
  },
  {
   "cell_type": "code",
   "execution_count": 40,
   "metadata": {},
   "outputs": [
    {
     "data": {
      "text/plain": [
       "'test'"
      ]
     },
     "execution_count": 40,
     "metadata": {},
     "output_type": "execute_result"
    }
   ],
   "source": [
    "env[1]"
   ]
  },
  {
   "cell_type": "code",
   "execution_count": 41,
   "metadata": {},
   "outputs": [],
   "source": [
    "envs = 'name'"
   ]
  },
  {
   "cell_type": "code",
   "execution_count": 42,
   "metadata": {},
   "outputs": [
    {
     "data": {
      "text/plain": [
       "str"
      ]
     },
     "execution_count": 42,
     "metadata": {},
     "output_type": "execute_result"
    }
   ],
   "source": [
    "type(envs)"
   ]
  },
  {
   "cell_type": "code",
   "execution_count": 43,
   "metadata": {},
   "outputs": [
    {
     "ename": "AttributeError",
     "evalue": "'list' object has no attribute 'astype'",
     "output_type": "error",
     "traceback": [
      "\u001b[1;31m---------------------------------------------------------------------------\u001b[0m",
      "\u001b[1;31mAttributeError\u001b[0m                            Traceback (most recent call last)",
      "\u001b[1;32m<ipython-input-43-9a940c7a229a>\u001b[0m in \u001b[0;36m<module>\u001b[1;34m\u001b[0m\n\u001b[0;32m      1\u001b[0m \u001b[1;31m#df['phone'] = df['phone'].astype('category')\u001b[0m\u001b[1;33m\u001b[0m\u001b[1;33m\u001b[0m\u001b[1;33m\u001b[0m\u001b[0m\n\u001b[0;32m      2\u001b[0m \u001b[1;31m#df = pd.get_dummies(df)\u001b[0m\u001b[1;33m\u001b[0m\u001b[1;33m\u001b[0m\u001b[1;33m\u001b[0m\u001b[0m\n\u001b[1;32m----> 3\u001b[1;33m \u001b[0menv\u001b[0m \u001b[1;33m=\u001b[0m \u001b[0menv\u001b[0m\u001b[1;33m.\u001b[0m\u001b[0mastype\u001b[0m\u001b[1;33m(\u001b[0m\u001b[1;34m'category'\u001b[0m\u001b[1;33m)\u001b[0m\u001b[1;33m\u001b[0m\u001b[1;33m\u001b[0m\u001b[0m\n\u001b[0m\u001b[0;32m      4\u001b[0m \u001b[0menvs\u001b[0m \u001b[1;33m=\u001b[0m \u001b[0mpd\u001b[0m\u001b[1;33m.\u001b[0m\u001b[0mget_dummies\u001b[0m\u001b[1;33m(\u001b[0m\u001b[0menvs\u001b[0m\u001b[1;33m)\u001b[0m\u001b[1;33m\u001b[0m\u001b[1;33m\u001b[0m\u001b[0m\n",
      "\u001b[1;31mAttributeError\u001b[0m: 'list' object has no attribute 'astype'"
     ]
    }
   ],
   "source": [
    "#df['phone'] = df['phone'].astype('category')\n",
    "#df = pd.get_dummies(df)\n",
    "env = env.astype('category')\n",
    "envs = pd.get_dummies(envs)"
   ]
  },
  {
   "cell_type": "code",
   "execution_count": 44,
   "metadata": {},
   "outputs": [
    {
     "data": {
      "text/html": [
       "<div>\n",
       "<style scoped>\n",
       "    .dataframe tbody tr th:only-of-type {\n",
       "        vertical-align: middle;\n",
       "    }\n",
       "\n",
       "    .dataframe tbody tr th {\n",
       "        vertical-align: top;\n",
       "    }\n",
       "\n",
       "    .dataframe thead th {\n",
       "        text-align: right;\n",
       "    }\n",
       "</style>\n",
       "<table border=\"1\" class=\"dataframe\">\n",
       "  <thead>\n",
       "    <tr style=\"text-align: right;\">\n",
       "      <th></th>\n",
       "      <th>Name</th>\n",
       "      <th>Age</th>\n",
       "    </tr>\n",
       "  </thead>\n",
       "  <tbody>\n",
       "    <tr>\n",
       "      <th>0</th>\n",
       "      <td>tom</td>\n",
       "      <td>10</td>\n",
       "    </tr>\n",
       "    <tr>\n",
       "      <th>1</th>\n",
       "      <td>nick</td>\n",
       "      <td>15</td>\n",
       "    </tr>\n",
       "    <tr>\n",
       "      <th>2</th>\n",
       "      <td>juli</td>\n",
       "      <td>14</td>\n",
       "    </tr>\n",
       "  </tbody>\n",
       "</table>\n",
       "</div>"
      ],
      "text/plain": [
       "   Name  Age\n",
       "0   tom   10\n",
       "1  nick   15\n",
       "2  juli   14"
      ]
     },
     "execution_count": 44,
     "metadata": {},
     "output_type": "execute_result"
    }
   ],
   "source": [
    "\n",
    "# Import pandas library \n",
    "import pandas as pd \n",
    "  \n",
    "# initialize list of lists \n",
    "data = [['tom', 10], ['nick', 15], ['juli', 14]] \n",
    "  \n",
    "# Create the pandas DataFrame \n",
    "df = pd.DataFrame(data, columns = ['Name', 'Age']) \n",
    "  \n",
    "# print dataframe. \n",
    "df "
   ]
  },
  {
   "cell_type": "code",
   "execution_count": 45,
   "metadata": {},
   "outputs": [
    {
     "data": {
      "text/plain": [
       "pandas.core.series.Series"
      ]
     },
     "execution_count": 45,
     "metadata": {},
     "output_type": "execute_result"
    }
   ],
   "source": [
    "type(df.Name)"
   ]
  },
  {
   "cell_type": "code",
   "execution_count": 46,
   "metadata": {},
   "outputs": [],
   "source": [
    "df['Name'] = df['Name'].astype('category')\n",
    "df = pd.get_dummies(df)"
   ]
  },
  {
   "cell_type": "code",
   "execution_count": 47,
   "metadata": {
    "scrolled": true
   },
   "outputs": [
    {
     "data": {
      "text/html": [
       "<div>\n",
       "<style scoped>\n",
       "    .dataframe tbody tr th:only-of-type {\n",
       "        vertical-align: middle;\n",
       "    }\n",
       "\n",
       "    .dataframe tbody tr th {\n",
       "        vertical-align: top;\n",
       "    }\n",
       "\n",
       "    .dataframe thead th {\n",
       "        text-align: right;\n",
       "    }\n",
       "</style>\n",
       "<table border=\"1\" class=\"dataframe\">\n",
       "  <thead>\n",
       "    <tr style=\"text-align: right;\">\n",
       "      <th></th>\n",
       "      <th>Age</th>\n",
       "      <th>Name_juli</th>\n",
       "      <th>Name_nick</th>\n",
       "      <th>Name_tom</th>\n",
       "    </tr>\n",
       "  </thead>\n",
       "  <tbody>\n",
       "    <tr>\n",
       "      <th>0</th>\n",
       "      <td>10</td>\n",
       "      <td>0</td>\n",
       "      <td>0</td>\n",
       "      <td>1</td>\n",
       "    </tr>\n",
       "    <tr>\n",
       "      <th>1</th>\n",
       "      <td>15</td>\n",
       "      <td>0</td>\n",
       "      <td>1</td>\n",
       "      <td>0</td>\n",
       "    </tr>\n",
       "    <tr>\n",
       "      <th>2</th>\n",
       "      <td>14</td>\n",
       "      <td>1</td>\n",
       "      <td>0</td>\n",
       "      <td>0</td>\n",
       "    </tr>\n",
       "  </tbody>\n",
       "</table>\n",
       "</div>"
      ],
      "text/plain": [
       "   Age  Name_juli  Name_nick  Name_tom\n",
       "0   10          0          0         1\n",
       "1   15          0          1         0\n",
       "2   14          1          0         0"
      ]
     },
     "execution_count": 47,
     "metadata": {},
     "output_type": "execute_result"
    }
   ],
   "source": [
    "df"
   ]
  },
  {
   "cell_type": "code",
   "execution_count": 60,
   "metadata": {},
   "outputs": [],
   "source": [
    "#FOR STRINGS WE CANT CREATE OR USE DUMMY VAR, FOR DF WE CAN CREATE DUMMY"
   ]
  },
  {
   "cell_type": "code",
   "execution_count": 70,
   "metadata": {},
   "outputs": [],
   "source": [
    "from sklearn.tree import DecisionTreeClassifier\n",
    "from sklearn.metrics import accuracy_score\n",
    "\n",
    "Fraud_check_data = pd.read_csv(\"C:\\\\Users\\\\dvenk\\\\Practice in Python\\\\Supervised_Learning_Models\\\\Fraud_check.csv\")"
   ]
  },
  {
   "cell_type": "code",
   "execution_count": 71,
   "metadata": {},
   "outputs": [
    {
     "data": {
      "text/plain": [
       "0        Single\n",
       "1      Divorced\n",
       "2       Married\n",
       "3        Single\n",
       "4       Married\n",
       "         ...   \n",
       "595    Divorced\n",
       "596    Divorced\n",
       "597    Divorced\n",
       "598     Married\n",
       "599    Divorced\n",
       "Name: Marital.Status, Length: 600, dtype: object"
      ]
     },
     "execution_count": 71,
     "metadata": {},
     "output_type": "execute_result"
    }
   ],
   "source": [
    "Fraud_check_data['Marital.Status']"
   ]
  },
  {
   "cell_type": "code",
   "execution_count": 72,
   "metadata": {},
   "outputs": [
    {
     "data": {
      "text/plain": [
       "pandas.core.series.Series"
      ]
     },
     "execution_count": 72,
     "metadata": {},
     "output_type": "execute_result"
    }
   ],
   "source": [
    "type(Fraud_check_data['Marital.Status'])"
   ]
  },
  {
   "cell_type": "code",
   "execution_count": 73,
   "metadata": {},
   "outputs": [
    {
     "data": {
      "text/plain": [
       "'C:\\\\Users\\\\dvenk\\\\Practice in Python\\\\Supervised_Learning_Models'"
      ]
     },
     "execution_count": 73,
     "metadata": {},
     "output_type": "execute_result"
    }
   ],
   "source": [
    "pwd"
   ]
  },
  {
   "cell_type": "code",
   "execution_count": 74,
   "metadata": {},
   "outputs": [],
   "source": [
    "Fraud_check_data['Undergrad'] = Fraud_check_data['Undergrad'].astype('category')\n",
    "Fraud_check_data['Marital.Status'] = Fraud_check_data['Marital.Status'].astype('category')\n",
    "Fraud_check_data['Urban'] = Fraud_check_data['Urban'].astype('category')\n",
    "Fraud_check_data = pd.get_dummies(Fraud_check_data)"
   ]
  },
  {
   "cell_type": "code",
   "execution_count": 76,
   "metadata": {},
   "outputs": [
    {
     "data": {
      "text/html": [
       "<div>\n",
       "<style scoped>\n",
       "    .dataframe tbody tr th:only-of-type {\n",
       "        vertical-align: middle;\n",
       "    }\n",
       "\n",
       "    .dataframe tbody tr th {\n",
       "        vertical-align: top;\n",
       "    }\n",
       "\n",
       "    .dataframe thead th {\n",
       "        text-align: right;\n",
       "    }\n",
       "</style>\n",
       "<table border=\"1\" class=\"dataframe\">\n",
       "  <thead>\n",
       "    <tr style=\"text-align: right;\">\n",
       "      <th></th>\n",
       "      <th>Taxable.Income</th>\n",
       "      <th>City.Population</th>\n",
       "      <th>Work.Experience</th>\n",
       "      <th>Undergrad_NO</th>\n",
       "      <th>Undergrad_YES</th>\n",
       "      <th>Marital.Status_Divorced</th>\n",
       "      <th>Marital.Status_Married</th>\n",
       "      <th>Marital.Status_Single</th>\n",
       "      <th>Urban_NO</th>\n",
       "      <th>Urban_YES</th>\n",
       "    </tr>\n",
       "  </thead>\n",
       "  <tbody>\n",
       "    <tr>\n",
       "      <th>0</th>\n",
       "      <td>68833</td>\n",
       "      <td>50047</td>\n",
       "      <td>10</td>\n",
       "      <td>1</td>\n",
       "      <td>0</td>\n",
       "      <td>0</td>\n",
       "      <td>0</td>\n",
       "      <td>1</td>\n",
       "      <td>0</td>\n",
       "      <td>1</td>\n",
       "    </tr>\n",
       "    <tr>\n",
       "      <th>1</th>\n",
       "      <td>33700</td>\n",
       "      <td>134075</td>\n",
       "      <td>18</td>\n",
       "      <td>0</td>\n",
       "      <td>1</td>\n",
       "      <td>1</td>\n",
       "      <td>0</td>\n",
       "      <td>0</td>\n",
       "      <td>0</td>\n",
       "      <td>1</td>\n",
       "    </tr>\n",
       "    <tr>\n",
       "      <th>2</th>\n",
       "      <td>36925</td>\n",
       "      <td>160205</td>\n",
       "      <td>30</td>\n",
       "      <td>1</td>\n",
       "      <td>0</td>\n",
       "      <td>0</td>\n",
       "      <td>1</td>\n",
       "      <td>0</td>\n",
       "      <td>0</td>\n",
       "      <td>1</td>\n",
       "    </tr>\n",
       "    <tr>\n",
       "      <th>3</th>\n",
       "      <td>50190</td>\n",
       "      <td>193264</td>\n",
       "      <td>15</td>\n",
       "      <td>0</td>\n",
       "      <td>1</td>\n",
       "      <td>0</td>\n",
       "      <td>0</td>\n",
       "      <td>1</td>\n",
       "      <td>0</td>\n",
       "      <td>1</td>\n",
       "    </tr>\n",
       "    <tr>\n",
       "      <th>4</th>\n",
       "      <td>81002</td>\n",
       "      <td>27533</td>\n",
       "      <td>28</td>\n",
       "      <td>1</td>\n",
       "      <td>0</td>\n",
       "      <td>0</td>\n",
       "      <td>1</td>\n",
       "      <td>0</td>\n",
       "      <td>1</td>\n",
       "      <td>0</td>\n",
       "    </tr>\n",
       "    <tr>\n",
       "      <th>...</th>\n",
       "      <td>...</td>\n",
       "      <td>...</td>\n",
       "      <td>...</td>\n",
       "      <td>...</td>\n",
       "      <td>...</td>\n",
       "      <td>...</td>\n",
       "      <td>...</td>\n",
       "      <td>...</td>\n",
       "      <td>...</td>\n",
       "      <td>...</td>\n",
       "    </tr>\n",
       "    <tr>\n",
       "      <th>595</th>\n",
       "      <td>76340</td>\n",
       "      <td>39492</td>\n",
       "      <td>7</td>\n",
       "      <td>0</td>\n",
       "      <td>1</td>\n",
       "      <td>1</td>\n",
       "      <td>0</td>\n",
       "      <td>0</td>\n",
       "      <td>0</td>\n",
       "      <td>1</td>\n",
       "    </tr>\n",
       "    <tr>\n",
       "      <th>596</th>\n",
       "      <td>69967</td>\n",
       "      <td>55369</td>\n",
       "      <td>2</td>\n",
       "      <td>0</td>\n",
       "      <td>1</td>\n",
       "      <td>1</td>\n",
       "      <td>0</td>\n",
       "      <td>0</td>\n",
       "      <td>0</td>\n",
       "      <td>1</td>\n",
       "    </tr>\n",
       "    <tr>\n",
       "      <th>597</th>\n",
       "      <td>47334</td>\n",
       "      <td>154058</td>\n",
       "      <td>0</td>\n",
       "      <td>1</td>\n",
       "      <td>0</td>\n",
       "      <td>1</td>\n",
       "      <td>0</td>\n",
       "      <td>0</td>\n",
       "      <td>0</td>\n",
       "      <td>1</td>\n",
       "    </tr>\n",
       "    <tr>\n",
       "      <th>598</th>\n",
       "      <td>98592</td>\n",
       "      <td>180083</td>\n",
       "      <td>17</td>\n",
       "      <td>0</td>\n",
       "      <td>1</td>\n",
       "      <td>0</td>\n",
       "      <td>1</td>\n",
       "      <td>0</td>\n",
       "      <td>1</td>\n",
       "      <td>0</td>\n",
       "    </tr>\n",
       "    <tr>\n",
       "      <th>599</th>\n",
       "      <td>96519</td>\n",
       "      <td>158137</td>\n",
       "      <td>16</td>\n",
       "      <td>1</td>\n",
       "      <td>0</td>\n",
       "      <td>1</td>\n",
       "      <td>0</td>\n",
       "      <td>0</td>\n",
       "      <td>1</td>\n",
       "      <td>0</td>\n",
       "    </tr>\n",
       "  </tbody>\n",
       "</table>\n",
       "<p>600 rows × 10 columns</p>\n",
       "</div>"
      ],
      "text/plain": [
       "     Taxable.Income  City.Population  Work.Experience  Undergrad_NO  \\\n",
       "0             68833            50047               10             1   \n",
       "1             33700           134075               18             0   \n",
       "2             36925           160205               30             1   \n",
       "3             50190           193264               15             0   \n",
       "4             81002            27533               28             1   \n",
       "..              ...              ...              ...           ...   \n",
       "595           76340            39492                7             0   \n",
       "596           69967            55369                2             0   \n",
       "597           47334           154058                0             1   \n",
       "598           98592           180083               17             0   \n",
       "599           96519           158137               16             1   \n",
       "\n",
       "     Undergrad_YES  Marital.Status_Divorced  Marital.Status_Married  \\\n",
       "0                0                        0                       0   \n",
       "1                1                        1                       0   \n",
       "2                0                        0                       1   \n",
       "3                1                        0                       0   \n",
       "4                0                        0                       1   \n",
       "..             ...                      ...                     ...   \n",
       "595              1                        1                       0   \n",
       "596              1                        1                       0   \n",
       "597              0                        1                       0   \n",
       "598              1                        0                       1   \n",
       "599              0                        1                       0   \n",
       "\n",
       "     Marital.Status_Single  Urban_NO  Urban_YES  \n",
       "0                        1         0          1  \n",
       "1                        0         0          1  \n",
       "2                        0         0          1  \n",
       "3                        1         0          1  \n",
       "4                        0         1          0  \n",
       "..                     ...       ...        ...  \n",
       "595                      0         0          1  \n",
       "596                      0         0          1  \n",
       "597                      0         0          1  \n",
       "598                      0         1          0  \n",
       "599                      0         1          0  \n",
       "\n",
       "[600 rows x 10 columns]"
      ]
     },
     "execution_count": 76,
     "metadata": {},
     "output_type": "execute_result"
    }
   ],
   "source": [
    "Fraud_check_data"
   ]
  },
  {
   "cell_type": "code",
   "execution_count": 77,
   "metadata": {},
   "outputs": [],
   "source": [
    "# seperate the independent and target variable on training data\n",
    "train_x = Fraud_check_data.drop(columns=['Taxable.Income'],axis=1)\n",
    "train_y = Fraud_check_data['Taxable.Income']"
   ]
  },
  {
   "cell_type": "code",
   "execution_count": 105,
   "metadata": {},
   "outputs": [],
   "source": [
    "model = DecisionTreeClassifier(max_depth=30)#depth controls the learning fuction of a tree"
   ]
  },
  {
   "cell_type": "code",
   "execution_count": 106,
   "metadata": {},
   "outputs": [
    {
     "data": {
      "text/plain": [
       "DecisionTreeClassifier(max_depth=30)"
      ]
     },
     "execution_count": 106,
     "metadata": {},
     "output_type": "execute_result"
    }
   ],
   "source": [
    "model.fit(train_x,train_y)"
   ]
  },
  {
   "cell_type": "code",
   "execution_count": 107,
   "metadata": {},
   "outputs": [
    {
     "name": "stdout",
     "output_type": "stream",
     "text": [
      "Depth of the model:  30\n"
     ]
    }
   ],
   "source": [
    "print('Depth of the model: ', model.get_depth())"
   ]
  },
  {
   "cell_type": "code",
   "execution_count": 108,
   "metadata": {},
   "outputs": [],
   "source": [
    "predict_train = model.predict(train_x) "
   ]
  },
  {
   "cell_type": "code",
   "execution_count": 109,
   "metadata": {},
   "outputs": [
    {
     "data": {
      "text/plain": [
       "array([68833, 12453, 20309, 10455, 81002, 33329, 83357, 62774, 83519,\n",
       "       98152, 10987, 61063, 11794, 61830, 64070, 69869, 24987, 39476,\n",
       "       97957, 10987, 10870, 14310, 78969, 92040, 38239, 15673, 55299,\n",
       "       87778, 10379, 94033, 73854, 64007, 97200, 10870, 12514, 31336,\n",
       "       10163, 68513, 14912, 74010, 10987, 49436, 96485, 70339, 18192,\n",
       "       70743, 12011, 44034, 16264, 45706, 79616, 10870, 97703, 21917,\n",
       "       81939, 10455, 20309, 78573, 10870, 65065, 12083, 26972, 91684,\n",
       "       51685, 10870, 58312, 42507, 12083, 10150, 10870, 89302, 94287,\n",
       "       12453, 41382, 32434, 61105, 67628, 12083, 73411, 10329, 44947,\n",
       "       18192, 15673, 87348, 69098, 12453, 12453, 10870, 86652, 12083,\n",
       "       77634, 99325, 85651, 15296, 10348, 10455, 22258, 79583, 12011,\n",
       "       52495, 93078, 35072, 32662, 89250, 41641, 55873, 19169, 46629,\n",
       "       51927, 69224, 24557, 77762, 10455, 90910, 21945, 79357, 42784,\n",
       "       10987, 29944, 97318, 10455, 12011, 12083, 26679, 70682, 87326,\n",
       "       15853, 10987, 20309, 10870, 93458, 10455, 46955, 33492, 12083,\n",
       "       12470, 53981, 22773, 84691, 50087, 27877, 12011, 10987, 26783,\n",
       "       10455, 33962, 84429, 18192, 43128, 40220, 79700, 67083, 22054,\n",
       "       18192, 25222, 58635, 39114, 48738, 28496, 62209, 87677, 12011,\n",
       "       12011, 27081, 10870, 91304, 20309, 41117, 18199, 76992, 98588,\n",
       "       12083, 13068, 10455, 44795, 39052, 38704, 98416, 86958, 12011,\n",
       "       10870, 29543, 23855, 84836, 93307, 64614, 72949, 79211, 28707,\n",
       "       83229, 73620, 70819, 48313, 12083, 10870, 10455, 10933, 66905,\n",
       "       36890, 19060, 10455, 31088, 70365, 56536, 16992, 14300, 51914,\n",
       "       12083, 71376, 10455, 10455, 70812, 62067, 62365, 80618, 52891,\n",
       "       31409, 12453, 57794, 20604, 18192, 10870, 18192, 12011, 86784,\n",
       "       42488, 35922, 10455, 28764, 75170, 24370, 84083, 11784, 10003,\n",
       "       98970, 77735, 46070, 27143, 56974, 99109, 10987, 24215, 33092,\n",
       "       71297, 10870, 33810, 49995, 11865, 10987, 39144, 31591, 30167,\n",
       "       72382, 10870, 70526, 38143, 12083, 54747, 92997, 24347, 10870,\n",
       "       70645, 69540, 70712, 32900, 14326, 12011, 29046, 95088, 38586,\n",
       "       30468, 42254, 32467, 68404, 12083, 86208, 62426, 63710, 25062,\n",
       "       56438, 17783, 92426, 64667, 18192, 15673, 77511, 76182, 89831,\n",
       "       12011, 81231, 12011, 31699, 15710, 31645, 98933, 52912, 18192,\n",
       "       41087, 10987, 34475, 98334, 10900, 61445, 12453, 12453, 10987,\n",
       "       88918, 62873, 12083, 10455, 12453, 52111, 34598, 61124, 59689,\n",
       "       18192, 48192, 12083, 82625, 12453, 10455, 38670, 15673, 12083,\n",
       "       10870, 94013, 12453, 26793, 67033, 20109, 95185, 27684, 98240,\n",
       "       18032, 10987, 12083, 62800, 27520, 18192, 13571, 36239, 77082,\n",
       "       71572, 30495, 49771, 32905, 10987, 16082, 43883, 15491, 48081,\n",
       "       36317, 15627, 12083, 12011, 45525, 23480, 19184, 10455, 33215,\n",
       "       65203, 65190, 16320, 21696, 56129, 74971, 12083, 12011, 95319,\n",
       "       94413, 78963, 66865, 40427, 20309, 63543, 41184, 96652, 10870,\n",
       "       36457, 26101, 36156, 49958, 18192, 97453, 12083, 96438, 10987,\n",
       "       85016, 73188, 64225, 64437, 66330, 26372, 20309, 84263, 86531,\n",
       "       10870, 79373, 17440, 81536, 12083, 37580, 60822, 15673, 91545,\n",
       "       73313, 54345, 33138, 33579, 83094, 90065, 51913, 81378, 10455,\n",
       "       97980, 38626, 64230, 38183, 89277, 68269, 58751, 62365, 99311,\n",
       "       94528, 72268, 18192, 94247, 76700, 12011, 10987, 98720, 10987,\n",
       "       37857, 15532, 10455, 91547, 98738, 12011, 14398, 18572, 10987,\n",
       "       42074, 10870, 12659, 19649, 50119, 18888, 83061, 10455, 92007,\n",
       "       78728, 12453, 92070, 97341, 97493, 20309, 52862, 11804, 10455,\n",
       "       18192, 58199, 88613, 16690, 71164, 48825, 29236, 59689, 12453,\n",
       "       64320, 84845, 12083, 10987, 69018, 10455, 99128, 35868, 79478,\n",
       "       18192, 73795, 58403, 85972, 62365, 32786, 17962, 12011, 94772,\n",
       "       80083, 10455, 86883, 39444, 35886, 24541, 10455, 17183, 10987,\n",
       "       70157, 72151, 65170, 10455, 93339, 10455, 56628, 83814, 12011,\n",
       "       46939, 71428, 23884, 10455, 46002, 20309, 70743, 42769, 10455,\n",
       "       55308, 60789, 51363, 99239, 19272, 10455, 10455, 98433, 81867,\n",
       "       43980, 50286, 12083, 10870, 26494, 59243, 91488, 33116, 12453,\n",
       "       70743, 34007, 26128, 33748, 38896, 40674, 97111, 54850, 32948,\n",
       "       10870, 12453, 12083, 59351, 10987, 36532, 94583, 92819, 76535,\n",
       "       91220, 71238, 32356, 89094, 91462, 75585, 31629, 42063, 12810,\n",
       "       85570, 18192, 90444, 50403, 78867, 95920, 41545, 63912, 92498,\n",
       "       10870, 10987, 59860, 10987, 34833, 12083, 12083, 44809, 10735,\n",
       "       12011, 56166, 42483, 70572, 31721, 31085, 84931, 69036, 42679,\n",
       "       84557, 10870, 10987, 12011, 31633, 43018, 10455, 10870, 84775,\n",
       "       47364, 76340, 69967, 47334, 12083, 96519], dtype=int64)"
      ]
     },
     "execution_count": 109,
     "metadata": {},
     "output_type": "execute_result"
    }
   ],
   "source": [
    "predict_train"
   ]
  },
  {
   "cell_type": "code",
   "execution_count": 110,
   "metadata": {},
   "outputs": [],
   "source": [
    "accuracy_train = accuracy_score(train_y, predict_train)"
   ]
  },
  {
   "cell_type": "code",
   "execution_count": 111,
   "metadata": {},
   "outputs": [
    {
     "data": {
      "text/plain": [
       "0.7383333333333333"
      ]
     },
     "execution_count": 111,
     "metadata": {},
     "output_type": "execute_result"
    }
   ],
   "source": [
    "accuracy_train"
   ]
  },
  {
   "cell_type": "code",
   "execution_count": null,
   "metadata": {},
   "outputs": [],
   "source": []
  }
 ],
 "metadata": {
  "kernelspec": {
   "display_name": "Python 3",
   "language": "python",
   "name": "python3"
  },
  "language_info": {
   "codemirror_mode": {
    "name": "ipython",
    "version": 3
   },
   "file_extension": ".py",
   "mimetype": "text/x-python",
   "name": "python",
   "nbconvert_exporter": "python",
   "pygments_lexer": "ipython3",
   "version": "3.8.3"
  }
 },
 "nbformat": 4,
 "nbformat_minor": 4
}
