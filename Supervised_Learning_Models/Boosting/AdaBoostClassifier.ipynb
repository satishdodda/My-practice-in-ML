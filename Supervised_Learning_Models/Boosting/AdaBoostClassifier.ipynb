{
 "cells": [
  {
   "cell_type": "code",
   "execution_count": 230,
   "metadata": {},
   "outputs": [],
   "source": [
    "# AdaBoost, GradientBoost, XGBoost\n",
    "import pandas as pd\n",
    "from sklearn.ensemble import AdaBoostClassifier\n",
    "#from sklearn.ensemble import AdaBoostRegressor\n",
    "from sklearn.tree import DecisionTreeClassifier\n",
    "#from sklearn.tree import DecisionTreeRegressor\n",
    "from sklearn.metrics import accuracy_score"
   ]
  },
  {
   "cell_type": "code",
   "execution_count": 231,
   "metadata": {},
   "outputs": [],
   "source": [
    "train= pd.read_csv(\"C:\\\\Users\\\\dvenk\\\\Practice in Python\\\\Supervised_Learning_Models\\\\Boosting\\\\Fraud_check1.csv\")"
   ]
  },
  {
   "cell_type": "code",
   "execution_count": 232,
   "metadata": {},
   "outputs": [
    {
     "name": "stdout",
     "output_type": "stream",
     "text": [
      "<bound method NDFrame.head of     Undergrad Marital_Status  Taxable_Income  City_Population  \\\n",
      "0          NO         Single           68833            50047   \n",
      "1         YES       Divorced           33700           134075   \n",
      "2          NO        Married           36925           160205   \n",
      "3         YES         Single           50190           193264   \n",
      "4          NO        Married           81002            27533   \n",
      "..        ...            ...             ...              ...   \n",
      "595       YES       Divorced           76340            39492   \n",
      "596       YES       Divorced           69967            55369   \n",
      "597        NO       Divorced           47334           154058   \n",
      "598       YES        Married           98592           180083   \n",
      "599        NO       Divorced           96519           158137   \n",
      "\n",
      "     Work_Experience Urban  \n",
      "0                 10   YES  \n",
      "1                 18   YES  \n",
      "2                 30   YES  \n",
      "3                 15   YES  \n",
      "4                 28    NO  \n",
      "..               ...   ...  \n",
      "595                7   YES  \n",
      "596                2   YES  \n",
      "597                0   YES  \n",
      "598               17    NO  \n",
      "599               16    NO  \n",
      "\n",
      "[600 rows x 6 columns]>\n"
     ]
    }
   ],
   "source": [
    "print(train.head)"
   ]
  },
  {
   "cell_type": "code",
   "execution_count": 233,
   "metadata": {
    "scrolled": true
   },
   "outputs": [
    {
     "name": "stdout",
     "output_type": "stream",
     "text": [
      "\n",
      "Shape: Index(['Undergrad', 'Marital_Status', 'Taxable_Income', 'City_Population',\n",
      "       'Work_Experience', 'Urban'],\n",
      "      dtype='object')\n"
     ]
    }
   ],
   "source": [
    "print('\\nShape:' , train.columns)"
   ]
  },
  {
   "cell_type": "code",
   "execution_count": 234,
   "metadata": {},
   "outputs": [],
   "source": [
    "train['Undergrad'] = train['Undergrad'].astype('category')\n",
    "train['Marital_Status'] = train['Marital_Status'].astype('category')\n",
    "train['Urban'] = train['Urban'].astype('category')\n",
    "train = pd.get_dummies(train)"
   ]
  },
  {
   "cell_type": "code",
   "execution_count": 235,
   "metadata": {},
   "outputs": [],
   "source": [
    "train_x=train.drop(['Taxable_Income'],axis=1)"
   ]
  },
  {
   "cell_type": "code",
   "execution_count": 236,
   "metadata": {},
   "outputs": [
    {
     "name": "stdout",
     "output_type": "stream",
     "text": [
      "<bound method NDFrame.head of      Taxable_Income  City_Population  Work_Experience  Undergrad_NO  \\\n",
      "0             68833            50047               10             1   \n",
      "1             33700           134075               18             0   \n",
      "2             36925           160205               30             1   \n",
      "3             50190           193264               15             0   \n",
      "4             81002            27533               28             1   \n",
      "..              ...              ...              ...           ...   \n",
      "595           76340            39492                7             0   \n",
      "596           69967            55369                2             0   \n",
      "597           47334           154058                0             1   \n",
      "598           98592           180083               17             0   \n",
      "599           96519           158137               16             1   \n",
      "\n",
      "     Undergrad_YES  Marital_Status_Divorced  Marital_Status_Married  \\\n",
      "0                0                        0                       0   \n",
      "1                1                        1                       0   \n",
      "2                0                        0                       1   \n",
      "3                1                        0                       0   \n",
      "4                0                        0                       1   \n",
      "..             ...                      ...                     ...   \n",
      "595              1                        1                       0   \n",
      "596              1                        1                       0   \n",
      "597              0                        1                       0   \n",
      "598              1                        0                       1   \n",
      "599              0                        1                       0   \n",
      "\n",
      "     Marital_Status_Single  Urban_NO  Urban_YES  \n",
      "0                        1         0          1  \n",
      "1                        0         0          1  \n",
      "2                        0         0          1  \n",
      "3                        1         0          1  \n",
      "4                        0         1          0  \n",
      "..                     ...       ...        ...  \n",
      "595                      0         0          1  \n",
      "596                      0         0          1  \n",
      "597                      0         0          1  \n",
      "598                      0         1          0  \n",
      "599                      0         1          0  \n",
      "\n",
      "[600 rows x 10 columns]>\n"
     ]
    }
   ],
   "source": [
    "print(train.head)"
   ]
  },
  {
   "cell_type": "code",
   "execution_count": 237,
   "metadata": {},
   "outputs": [],
   "source": [
    "#df.Content.xyz\n",
    "#train.Taxable.Income\n",
    "#y = Taxable.Income\n",
    "#train_y = train.y\n",
    "#train(['Taxable_Income'])\n",
    "train_y=train.Taxable_Income"
   ]
  },
  {
   "cell_type": "code",
   "execution_count": 238,
   "metadata": {},
   "outputs": [
    {
     "data": {
      "text/plain": [
       "0      68833\n",
       "1      33700\n",
       "2      36925\n",
       "3      50190\n",
       "4      81002\n",
       "       ...  \n",
       "595    76340\n",
       "596    69967\n",
       "597    47334\n",
       "598    98592\n",
       "599    96519\n",
       "Name: Taxable_Income, Length: 600, dtype: int64"
      ]
     },
     "execution_count": 238,
     "metadata": {},
     "output_type": "execute_result"
    }
   ],
   "source": [
    "train.Taxable_Income"
   ]
  },
  {
   "cell_type": "code",
   "execution_count": 239,
   "metadata": {},
   "outputs": [
    {
     "data": {
      "text/plain": [
       "0      68833\n",
       "1      33700\n",
       "2      36925\n",
       "3      50190\n",
       "4      81002\n",
       "       ...  \n",
       "595    76340\n",
       "596    69967\n",
       "597    47334\n",
       "598    98592\n",
       "599    96519\n",
       "Name: Taxable_Income, Length: 600, dtype: int64"
      ]
     },
     "execution_count": 239,
     "metadata": {},
     "output_type": "execute_result"
    }
   ],
   "source": [
    "train_y"
   ]
  },
  {
   "cell_type": "code",
   "execution_count": 241,
   "metadata": {},
   "outputs": [],
   "source": [
    "#dt = DecisionTreeClassifier(criterion='gini',max_depth=30)\n",
    "dt = DecisionTreeClassifier(criterion='entropy',max_depth=9)\n",
    "#dt = DecisionTreeRegressor(max_depth=9)"
   ]
  },
  {
   "cell_type": "code",
   "execution_count": 240,
   "metadata": {},
   "outputs": [
    {
     "data": {
      "text/plain": [
       "AdaBoostClassifier(base_estimator=DecisionTreeClassifier(), learning_rate=1,\n",
       "                   n_estimators=100)"
      ]
     },
     "execution_count": 240,
     "metadata": {},
     "output_type": "execute_result"
    }
   ],
   "source": []
  },
  {
   "cell_type": "code",
   "execution_count": 242,
   "metadata": {},
   "outputs": [],
   "source": [
    "#clf = AdaBoostClassifier(learning_rate=1,n_estimators=100,base_estimator=dt)"
   ]
  },
  {
   "cell_type": "code",
   "execution_count": 243,
   "metadata": {},
   "outputs": [],
   "source": [
    "dt.model = dt.fit(train_x,train_y)"
   ]
  },
  {
   "cell_type": "code",
   "execution_count": 244,
   "metadata": {},
   "outputs": [
    {
     "data": {
      "text/plain": [
       "9"
      ]
     },
     "execution_count": 244,
     "metadata": {},
     "output_type": "execute_result"
    }
   ],
   "source": [
    "dt.get_depth()"
   ]
  },
  {
   "cell_type": "code",
   "execution_count": 245,
   "metadata": {},
   "outputs": [],
   "source": [
    "dt_predict = dt.predict(train_x)"
   ]
  },
  {
   "cell_type": "code",
   "execution_count": 246,
   "metadata": {},
   "outputs": [],
   "source": [
    "dt_accuracy = accuracy_score(train_y, dt_predict)"
   ]
  },
  {
   "cell_type": "code",
   "execution_count": 249,
   "metadata": {},
   "outputs": [],
   "source": [
    "#from sklearn.metrics import roc_curve, auc\n",
    "#roc_curve(train_y, dt_predict)\n",
    "#false_positive_rate, true_positive_rate, thresholds = roc_curve(train_y, dt_predict)\n",
    "#roc_auc = auc(false_positive_rate, true_positive_rate)\n",
    "#parameters: targets to be predicted and predictions from new data used before"
   ]
  },
  {
   "cell_type": "code",
   "execution_count": 250,
   "metadata": {},
   "outputs": [
    {
     "data": {
      "text/plain": [
       "0.8533333333333334"
      ]
     },
     "execution_count": 250,
     "metadata": {},
     "output_type": "execute_result"
    }
   ],
   "source": [
    "dt_accuracy"
   ]
  },
  {
   "cell_type": "code",
   "execution_count": 288,
   "metadata": {},
   "outputs": [],
   "source": [
    "clf = AdaBoostClassifier(n_estimators=1000,learning_rate=1)"
   ]
  },
  {
   "cell_type": "code",
   "execution_count": 289,
   "metadata": {},
   "outputs": [
    {
     "data": {
      "text/plain": [
       "AdaBoostClassifier(learning_rate=1, n_estimators=1000)"
      ]
     },
     "execution_count": 289,
     "metadata": {},
     "output_type": "execute_result"
    }
   ],
   "source": [
    "clf.fit(train_x,train_y)"
   ]
  },
  {
   "cell_type": "code",
   "execution_count": 290,
   "metadata": {},
   "outputs": [],
   "source": [
    "clf_predict = clf.predict(train_x)"
   ]
  },
  {
   "cell_type": "code",
   "execution_count": 291,
   "metadata": {},
   "outputs": [],
   "source": [
    "clf_accuracy = accuracy_score(train_y, clf_predict)"
   ]
  },
  {
   "cell_type": "code",
   "execution_count": 292,
   "metadata": {},
   "outputs": [
    {
     "data": {
      "text/plain": [
       "0.5166666666666667"
      ]
     },
     "execution_count": 292,
     "metadata": {},
     "output_type": "execute_result"
    }
   ],
   "source": [
    "clf_accuracy"
   ]
  },
  {
   "cell_type": "code",
   "execution_count": null,
   "metadata": {},
   "outputs": [],
   "source": []
  }
 ],
 "metadata": {
  "kernelspec": {
   "display_name": "Python 3",
   "language": "python",
   "name": "python3"
  },
  "language_info": {
   "codemirror_mode": {
    "name": "ipython",
    "version": 3
   },
   "file_extension": ".py",
   "mimetype": "text/x-python",
   "name": "python",
   "nbconvert_exporter": "python",
   "pygments_lexer": "ipython3",
   "version": "3.8.3"
  }
 },
 "nbformat": 4,
 "nbformat_minor": 4
}
