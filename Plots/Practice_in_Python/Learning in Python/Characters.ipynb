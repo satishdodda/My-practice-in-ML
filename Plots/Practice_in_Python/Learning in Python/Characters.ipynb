{
 "cells": [
  {
   "cell_type": "code",
   "execution_count": 1,
   "metadata": {},
   "outputs": [
    {
     "name": "stdout",
     "output_type": "stream",
     "text": [
      "Enter your name sdff\n",
      "Hello sdff\n",
      "Enter your Name hn\n"
     ]
    }
   ],
   "source": [
    "name = input(\"Enter your name \")\n",
    "\n",
    "print(\"Hello \"+ name)\n",
    "\n",
    "zodo = input(\"Enter your Name \")\n",
    " \n",
    "def eneredname(zodo):\n",
    "    print(zodo)"
   ]
  },
  {
   "cell_type": "code",
   "execution_count": 10,
   "metadata": {},
   "outputs": [
    {
     "name": "stdout",
     "output_type": "stream",
     "text": [
      "H\n",
      "e\n",
      "l\n",
      "l\n",
      "o\n",
      " \n",
      "i\n",
      " \n",
      "a\n",
      "m\n",
      " \n",
      "s\n",
      "a\n",
      "t\n",
      "i\n",
      "s\n",
      "h\n"
     ]
    }
   ],
   "source": [
    "s = \"Hello i am satish\"\n",
    "\n",
    "for i in s:\n",
    "    print(i)"
   ]
  },
  {
   "cell_type": "code",
   "execution_count": 14,
   "metadata": {},
   "outputs": [
    {
     "name": "stdout",
     "output_type": "stream",
     "text": [
      "H\n",
      "e\n",
      "l\n",
      "l\n",
      "o\n",
      " \n",
      "i\n",
      " \n",
      "a\n",
      "m\n",
      " \n",
      "s\n",
      "a\n",
      "t\n",
      "i\n",
      "s\n",
      "h\n"
     ]
    }
   ],
   "source": [
    "l = [1,3,6,9]\n",
    "\n",
    "for l in s:\n",
    "    print(l)"
   ]
  },
  {
   "cell_type": "code",
   "execution_count": 18,
   "metadata": {},
   "outputs": [
    {
     "name": "stdout",
     "output_type": "stream",
     "text": [
      "1\n",
      "3\n",
      "5\n",
      "9\n"
     ]
    }
   ],
   "source": [
    "l = [1,3,5,9]\n",
    "\n",
    "for x in l:\n",
    "    print(x)"
   ]
  },
  {
   "cell_type": "code",
   "execution_count": 20,
   "metadata": {},
   "outputs": [
    {
     "name": "stdout",
     "output_type": "stream",
     "text": [
      "1\n",
      "2\n",
      "3\n",
      "4\n",
      "5\n",
      "6\n",
      "7\n",
      "8\n",
      "9\n"
     ]
    }
   ],
   "source": [
    "for i in range(1 , 10):\n",
    "    print(i)"
   ]
  },
  {
   "cell_type": "code",
   "execution_count": 38,
   "metadata": {},
   "outputs": [
    {
     "data": {
      "text/plain": [
       "13"
      ]
     },
     "execution_count": 38,
     "metadata": {},
     "output_type": "execute_result"
    }
   ],
   "source": [
    "name = \"Greekforgeeks\"\n",
    "\n",
    "len (name )"
   ]
  },
  {
   "cell_type": "code",
   "execution_count": 92,
   "metadata": {},
   "outputs": [
    {
     "name": "stdout",
     "output_type": "stream",
     "text": [
      "4\n"
     ]
    }
   ],
   "source": [
    "A = \"python is good way to tune\"\n",
    "\n",
    "print(A.count(\"o\",0,len(A)))"
   ]
  },
  {
   "cell_type": "code",
   "execution_count": 91,
   "metadata": {},
   "outputs": [
    {
     "name": "stdout",
     "output_type": "stream",
     "text": [
      "2\n"
     ]
    }
   ],
   "source": [
    "B = \"This is a python\"\n",
    "\n",
    "print(B.count(\"is\",0,len(B)))"
   ]
  },
  {
   "cell_type": "code",
   "execution_count": 90,
   "metadata": {},
   "outputs": [
    {
     "name": "stdout",
     "output_type": "stream",
     "text": [
      "2\n"
     ]
    }
   ],
   "source": [
    "C = \"2 times ppython a python\"\n",
    "\n",
    "print(C.count(\"python\",0,len(C)))"
   ]
  },
  {
   "cell_type": "code",
   "execution_count": 37,
   "metadata": {},
   "outputs": [
    {
     "name": "stdout",
     "output_type": "stream",
     "text": [
      "...GreekforGeeks....\n",
      "GreekforGeeks.......\n",
      ".......GreekforGeeks\n"
     ]
    }
   ],
   "source": [
    "name = \"GreekforGeeks\"\n",
    "\n",
    "#print(str.center(name,20))\n",
    "print(name.center(20,'.'))\n",
    "print(name.ljust(20,'.'))\n",
    "print(name.rjust(20,'.'))"
   ]
  },
  {
   "cell_type": "code",
   "execution_count": 40,
   "metadata": {},
   "outputs": [],
   "source": [
    "#?isalpha, isalnum?, isspace?"
   ]
  },
  {
   "cell_type": "code",
   "execution_count": 64,
   "metadata": {},
   "outputs": [
    {
     "name": "stdout",
     "output_type": "stream",
     "text": [
      "char abc has alphabet --> True\n",
      "char 123 has alphabet or number --> True\n",
      "char     has space ---> True\n",
      "char abc has alphabet --> True\n",
      "char abc has number --> True\n",
      "char abc has space ---> False\n",
      "123 has alphabet --> False\n",
      "123 has number --> True\n",
      "123 has space ---> False\n",
      "space has no alphabet or number --> False\n",
      "space has no alphabet or number --> False\n",
      "space has no alphabet or number ---> True\n"
     ]
    }
   ],
   "source": [
    "char = 'abc'\n",
    "num = \"123\"\n",
    "space = '   '\n",
    "\n",
    "print(\"char \" +char+\" has alphabet -->\", char.isalpha())\n",
    "\n",
    "print(\"char 123 has alphabet or number -->\", char.isalnum())\n",
    "\n",
    "print(\"char \" + space +\" has space --->\" , space.isspace() )\n",
    "\n",
    "\n",
    "print(\"char \" +char+\" has alphabet -->\", char.isalpha())\n",
    "\n",
    "print(\"char \" +char+\" has number -->\", char.isalnum())\n",
    "\n",
    "print(\"char \" + char +\" has space --->\" , char.isspace() )\n",
    "\n",
    "\n",
    "print(\"123 has alphabet -->\", num.isalpha())\n",
    "\n",
    "print(\"123 has number -->\", num.isalnum())\n",
    "\n",
    "print(\"123 has space --->\" , num.isspace() )\n",
    "\n",
    "\n",
    "print(\"space has no alphabet or number -->\", space.isalpha())\n",
    "\n",
    "print(\"space has no alphabet or number -->\", space.isalnum())\n",
    "\n",
    "print(\"space has no alphabet or number --->\" , space.isspace() )"
   ]
  },
  {
   "cell_type": "code",
   "execution_count": 77,
   "metadata": {},
   "outputs": [
    {
     "name": "stdout",
     "output_type": "stream",
     "text": [
      "my name is satish and my roll num is 74 has number.But is num considered for dispaly!!! False\n",
      "my name is satish and my roll num is 74 has space. But is space considered for dispaly!!! False\n"
     ]
    }
   ],
   "source": [
    "myname = \"my name is satish and my roll num is 74\"\n",
    "print(myname + \" has number.But is num considered for dispaly!!!\" , myname.isalnum())\n",
    "print(myname +  \" has space. But is space considered for dispaly!!!\" , myname.isspace())"
   ]
  },
  {
   "cell_type": "code",
   "execution_count": 94,
   "metadata": {},
   "outputs": [
    {
     "name": "stdout",
     "output_type": "stream",
     "text": [
      "through 7\n",
      "bat 3\n",
      "which 5\n",
      "plays 5\n",
      "surya 5\n",
      "through 1\n",
      "bat 2\n",
      "which 1\n",
      "plays 1\n",
      "surya 1\n"
     ]
    }
   ],
   "source": [
    "# count by taking the list\n",
    "\n",
    "list =['bat','through','which','surya', 'plays','bat']\n",
    "\n",
    "for l in set(list):\n",
    "    print(l,len(l))\n",
    "    \n",
    "for l in set(list):\n",
    "    print(l,list.count(l))"
   ]
  },
  {
   "cell_type": "code",
   "execution_count": 96,
   "metadata": {},
   "outputs": [
    {
     "name": "stdout",
     "output_type": "stream",
     "text": [
      "my-son-is-surya\n"
     ]
    }
   ],
   "source": [
    "#join\n",
    "\n",
    "strin = [\"my\",\"son\",\"is\",\"surya\"]\n",
    "jo = \"-\"\n",
    "print(jo.join(strin))"
   ]
  },
  {
   "cell_type": "code",
   "execution_count": 99,
   "metadata": {},
   "outputs": [
    {
     "name": "stdout",
     "output_type": "stream",
     "text": [
      "the do string is at first\n",
      "11\n",
      "the do string is at last\n",
      "17\n"
     ]
    }
   ],
   "source": [
    "# first and last occurance of string\n",
    "\n",
    "newstr =\"baby shark do do do\"\n",
    "\n",
    "print(\"the do string is at first\")\n",
    "print(newstr.find(\"do\",0,len(newstr)))\n",
    "print(\"the do string is at last\")\n",
    "print(newstr.rfind(\"do\",0,len(newstr)))"
   ]
  },
  {
   "cell_type": "code",
   "execution_count": null,
   "metadata": {},
   "outputs": [],
   "source": []
  }
 ],
 "metadata": {
  "kernelspec": {
   "display_name": "Python 3",
   "language": "python",
   "name": "python3"
  },
  "language_info": {
   "codemirror_mode": {
    "name": "ipython",
    "version": 3
   },
   "file_extension": ".py",
   "mimetype": "text/x-python",
   "name": "python",
   "nbconvert_exporter": "python",
   "pygments_lexer": "ipython3",
   "version": "3.8.3"
  }
 },
 "nbformat": 4,
 "nbformat_minor": 4
}
